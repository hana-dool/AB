{
 "cells": [
  {
   "cell_type": "code",
   "execution_count": 4,
   "metadata": {},
   "outputs": [
    {
     "data": {
      "text/html": [
       "<div>\n",
       "<style scoped>\n",
       "    .dataframe tbody tr th:only-of-type {\n",
       "        vertical-align: middle;\n",
       "    }\n",
       "\n",
       "    .dataframe tbody tr th {\n",
       "        vertical-align: top;\n",
       "    }\n",
       "\n",
       "    .dataframe thead th {\n",
       "        text-align: right;\n",
       "    }\n",
       "</style>\n",
       "<table border=\"1\" class=\"dataframe\">\n",
       "  <thead>\n",
       "    <tr style=\"text-align: right;\">\n",
       "      <th></th>\n",
       "      <th>mean_control</th>\n",
       "      <th>mean_treatment</th>\n",
       "      <th>var_control</th>\n",
       "      <th>var_experiment</th>\n",
       "      <th>difference</th>\n",
       "      <th>lower_bound</th>\n",
       "      <th>upper_bound</th>\n",
       "      <th>p-value</th>\n",
       "    </tr>\n",
       "  </thead>\n",
       "  <tbody>\n",
       "    <tr>\n",
       "      <th>0</th>\n",
       "      <td>0.328899</td>\n",
       "      <td>0.344961</td>\n",
       "      <td>0.000007</td>\n",
       "      <td>0.000008</td>\n",
       "      <td>0.016062</td>\n",
       "      <td>0.008322</td>\n",
       "      <td>0.023802</td>\n",
       "      <td>0.000048</td>\n",
       "    </tr>\n",
       "  </tbody>\n",
       "</table>\n",
       "</div>"
      ],
      "text/plain": [
       "   mean_control  mean_treatment  var_control  var_experiment  difference  \\\n",
       "0      0.328899        0.344961     0.000007        0.000008    0.016062   \n",
       "\n",
       "   lower_bound  upper_bound   p-value  \n",
       "0     0.008322     0.023802  0.000048  "
      ]
     },
     "execution_count": 4,
     "metadata": {},
     "output_type": "execute_result"
    }
   ],
   "source": [
    "import pandas as pd\n",
    "import numpy as np\n",
    "from random import randint\n",
    "from scipy import stats \n",
    "\n",
    "#dummy variables\n",
    "click_control = [randint(0,20) for i in range(10000)]\n",
    "view_control = [randint(1,60) for i in range(10000)]\n",
    "\n",
    "click_treatment = [randint(0,21) for i in range(10000)]\n",
    "view_treatment = [randint(1,60) for i in range(10000)]\n",
    "\n",
    "control = pd.DataFrame({'click':click_control,'view':view_control})\n",
    "treatment = pd.DataFrame({'click':click_treatment,'view':view_treatment})\n",
    "\n",
    "#variance estimation of metrics ratio\n",
    "def var_ratio(x,y): #x/y\n",
    "    mean_x = np.mean(x)\n",
    "    mean_y = np.mean(y)\n",
    "    var_x = np.var(x,ddof=1)\n",
    "    var_y = np.var(y,ddof=1)\n",
    "    cov_xy = np.cov(x,y,ddof=1)[0][1]\n",
    "    result = (var_x/mean_x**2 + var_y/mean_y**2 - 2*cov_xy/(mean_x*mean_y))*(mean_x*mean_x)/(mean_y*mean_y*len(x))\n",
    "    return result\n",
    "    \n",
    "#ttest calculation \n",
    "def ttest(mean_control,mean_treatment,var_control,var_treatment):\n",
    "    diff = mean_treatment - mean_control\n",
    "    var = var_control+var_treatment\n",
    "    stde = 1.96*np.sqrt(var)\n",
    "    lower = diff - stde \n",
    "    upper = diff + stde\n",
    "    z = diff/np.sqrt(var)\n",
    "    p_val = stats.norm.sf(abs(z))*2\n",
    "\n",
    "    result = {'mean_control':mean_control,\n",
    "             'mean_treatment':mean_treatment,\n",
    "             'var_control':var_control,\n",
    "             'var_experiment':var_treatment,\n",
    "             'difference':diff,\n",
    "             'lower_bound':lower,\n",
    "             'upper_bound':upper,\n",
    "             'p-value':p_val}\n",
    "    return pd.DataFrame(result,index=[0])\n",
    "\n",
    "var_control = var_ratio(control['click'],control['view'])\n",
    "var_treatment = var_ratio(treatment['click'],treatment['view'])\n",
    "mean_control = control['click'].sum()/control['view'].sum()\n",
    "mean_treatment = treatment['click'].sum()/treatment['view'].sum()\n",
    "\n",
    "ttest(mean_control,mean_treatment,var_control,var_treatment)"
   ]
  },
  {
   "cell_type": "markdown",
   "metadata": {},
   "source": [
    "- https://medium.com/@ahmadnuraziz3/applying-delta-method-for-a-b-tests-analysis-8b1d13411c22\n"
   ]
  },
  {
   "cell_type": "markdown",
   "metadata": {},
   "source": []
  }
 ],
 "metadata": {
  "interpreter": {
   "hash": "40d3a090f54c6569ab1632332b64b2c03c39dcf918b08424e98f38b5ae0af88f"
  },
  "kernelspec": {
   "display_name": "Python 3.8.8 64-bit ('base': conda)",
   "language": "python",
   "name": "python3"
  },
  "language_info": {
   "codemirror_mode": {
    "name": "ipython",
    "version": 3
   },
   "file_extension": ".py",
   "mimetype": "text/x-python",
   "name": "python",
   "nbconvert_exporter": "python",
   "pygments_lexer": "ipython3",
   "version": "3.8.12"
  },
  "orig_nbformat": 4
 },
 "nbformat": 4,
 "nbformat_minor": 2
}
