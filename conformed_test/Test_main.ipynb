{
 "cells": [
  {
   "cell_type": "markdown",
   "metadata": {},
   "source": [
    "# Module Definition"
   ]
  },
  {
   "cell_type": "code",
   "execution_count": 3,
   "metadata": {},
   "outputs": [
    {
     "data": {
      "text/html": [
       "<div>\n",
       "<style scoped>\n",
       "    .dataframe tbody tr th:only-of-type {\n",
       "        vertical-align: middle;\n",
       "    }\n",
       "\n",
       "    .dataframe tbody tr th {\n",
       "        vertical-align: top;\n",
       "    }\n",
       "\n",
       "    .dataframe thead th {\n",
       "        text-align: right;\n",
       "    }\n",
       "</style>\n",
       "<table border=\"1\" class=\"dataframe\">\n",
       "  <thead>\n",
       "    <tr style=\"text-align: right;\">\n",
       "      <th></th>\n",
       "      <th>지표 구분</th>\n",
       "      <th>지표 정의</th>\n",
       "      <th>지표 상세</th>\n",
       "      <th>A_분자</th>\n",
       "      <th>B_분자</th>\n",
       "      <th>C_분자</th>\n",
       "      <th>A_분모</th>\n",
       "      <th>B_분모</th>\n",
       "      <th>C_분모</th>\n",
       "      <th>A_분산</th>\n",
       "      <th>B_분산</th>\n",
       "      <th>C_분산</th>\n",
       "    </tr>\n",
       "  </thead>\n",
       "  <tbody>\n",
       "    <tr>\n",
       "      <th>0</th>\n",
       "      <td>conversion</td>\n",
       "      <td>구매 전환율</td>\n",
       "      <td>미식선물 컬렉션 구매자수 / 미식선물 컬렉션 노출 사용자수</td>\n",
       "      <td>49</td>\n",
       "      <td>59</td>\n",
       "      <td>78</td>\n",
       "      <td>272394</td>\n",
       "      <td>281384</td>\n",
       "      <td>268483</td>\n",
       "      <td>NaN</td>\n",
       "      <td>NaN</td>\n",
       "      <td>NaN</td>\n",
       "    </tr>\n",
       "    <tr>\n",
       "      <th>1</th>\n",
       "      <td>continuous</td>\n",
       "      <td>유저당 주문수</td>\n",
       "      <td>미식선물 컬렉션 주문수 / 미식선물 컬렉션 노출 사용자수</td>\n",
       "      <td>50</td>\n",
       "      <td>66</td>\n",
       "      <td>86</td>\n",
       "      <td>272394</td>\n",
       "      <td>281384</td>\n",
       "      <td>268483</td>\n",
       "      <td>2.041000e-02</td>\n",
       "      <td>1.753400e-01</td>\n",
       "      <td>1.711600e-01</td>\n",
       "    </tr>\n",
       "    <tr>\n",
       "      <th>2</th>\n",
       "      <td>continuous</td>\n",
       "      <td>유저당 거래액</td>\n",
       "      <td>미식선물 컬렉션 거래액 / 미식선물 컬렉션 노출 사용자수</td>\n",
       "      <td>1165100</td>\n",
       "      <td>1585960</td>\n",
       "      <td>2067400</td>\n",
       "      <td>272394</td>\n",
       "      <td>281384</td>\n",
       "      <td>268483</td>\n",
       "      <td>7.935969e+07</td>\n",
       "      <td>1.935180e+08</td>\n",
       "      <td>2.163052e+08</td>\n",
       "    </tr>\n",
       "  </tbody>\n",
       "</table>\n",
       "</div>"
      ],
      "text/plain": [
       "        지표 구분    지표 정의                             지표 상세     A_분자     B_분자  \\\n",
       "0  conversion   구매 전환율  미식선물 컬렉션 구매자수 / 미식선물 컬렉션 노출 사용자수       49       59   \n",
       "1  continuous  유저당 주문수   미식선물 컬렉션 주문수 / 미식선물 컬렉션 노출 사용자수       50       66   \n",
       "2  continuous  유저당 거래액   미식선물 컬렉션 거래액 / 미식선물 컬렉션 노출 사용자수  1165100  1585960   \n",
       "\n",
       "      C_분자    A_분모    B_분모    C_분모          A_분산          B_분산          C_분산  \n",
       "0       78  272394  281384  268483           NaN           NaN           NaN  \n",
       "1       86  272394  281384  268483  2.041000e-02  1.753400e-01  1.711600e-01  \n",
       "2  2067400  272394  281384  268483  7.935969e+07  1.935180e+08  2.163052e+08  "
      ]
     },
     "execution_count": 3,
     "metadata": {},
     "output_type": "execute_result"
    }
   ],
   "source": [
    "# plt 의 한글 출력을 위한 설정\n",
    "\n",
    "import pandas as pd\n",
    "import numpy as np\n",
    "import statsmodels\n",
    "import matplotlib.pyplot as plt\n",
    "import scipy.stats\n",
    "\n",
    "from matplotlib import rc\n",
    "rc('font', family='AppleGothic')\n",
    "plt.rcParams['axes.unicode_minus'] = False\n",
    "\n",
    "from scipy import stats\n",
    "\n",
    "# 데이터 출력\n",
    "df = pd.read_excel('./Stat_Aggregate.xlsx',header = 0 )\n",
    "\n",
    "# 결과를 담을 df_result 파일 새로 생성 \n",
    "df_result = df.copy()\n",
    "\n",
    "df.head(3)"
   ]
  },
  {
   "cell_type": "code",
   "execution_count": 6,
   "metadata": {},
   "outputs": [],
   "source": [
    "def plot_ci(dataset,name):\n",
    "    \"\"\"\n",
    "    Parameters \n",
    "    ----------\n",
    "    dataset : 데이터\n",
    "    \n",
    "    Resturns\n",
    "    --------\n",
    "    None : plot 파일을 세이브하고, 이를 plotting 함\n",
    "\n",
    "    Example \n",
    "    -------\n",
    "    from matplotlib import pyplot as plt\n",
    "    data_dict = {}\n",
    "    data_dict['category'] = ['category 1','category 2','category 3']\n",
    "    data_dict['lower'] = [0.1,0.2,0.15]\n",
    "    data_dict['mean'] = [0.16,0.25,0.18]\n",
    "    data_dict['upper'] = [0.22,0.3,0.21]\n",
    "    dataset = pd.DataFrame(data_dict)\n",
    "    plot_ci(dataset,'Metric_Name')\n",
    "    \"\"\"\n",
    "    print(dataset)\n",
    "    plt.figure(figsize = (10,2))\n",
    "    for lower,mean,upper,y in zip(dataset['lower'],\n",
    "                                dataset['mean'],\n",
    "                                dataset['upper'],\n",
    "                                range(len(dataset))):\n",
    "        # (lower , y) 와 (upper , y ) 를 잇는 선을 만들어냅니다. 즉 가로 수직선이 됩니다. \n",
    "        plt.plot((lower,upper),(y,y),'|-',color = 'blue')\n",
    "        plt.plot(mean,y,'o',color = 'blue')\n",
    "    plt.yticks([-1]+list(range(len(dataset)))+[len(dataset)],[''] + list(dataset['category']) + [''])\n",
    "    # 0 위치 표시하기 \n",
    "    plt.axvline(x=0, color='r', linestyle='--', linewidth=2)\n",
    "    plt.title(name)\n",
    "    plt.show()\n"
   ]
  },
  {
   "cell_type": "code",
   "execution_count": null,
   "metadata": {},
   "outputs": [],
   "source": [
    "data_dict = {}\n",
    "data_dict['category'] = ['category 1','category 2','category 3']\n",
    "data_dict['lower'] = [0.1,0.2,0.15]\n",
    "data_dict['mean'] = [0.16,0.25,0.18]\n",
    "data_dict['upper'] = [0.22,0.3,0.21]"
   ]
  },
  {
   "cell_type": "code",
   "execution_count": 7,
   "metadata": {},
   "outputs": [
    {
     "name": "stdout",
     "output_type": "stream",
     "text": [
      "     category  lower  mean  upper\n",
      "0  category 1   0.10  0.16   0.22\n",
      "1  category 2   0.20  0.25   0.30\n",
      "2  category 3   0.15  0.18   0.21\n"
     ]
    },
    {
     "data": {
      "image/png": "[encoded data removed]",
      "text/plain": [
       "<Figure size 720x144 with 1 Axes>"
      ]
     },
     "metadata": {
      "needs_background": "light"
     },
     "output_type": "display_data"
    }
   ],
   "source": [
    "from matplotlib import pyplot as plt\n",
    "data_dict = {}\n",
    "data_dict['category'] = ['category 1','category 2','category 3']\n",
    "data_dict['lower'] = [0.1,0.2,0.15]\n",
    "data_dict['mean'] = [0.16,0.25,0.18]\n",
    "data_dict['upper'] = [0.22,0.3,0.21]\n",
    "dataset = pd.DataFrame(data_dict)\n",
    "plot_ci(dataset,'Metric_Name')"
   ]
  },
  {
   "cell_type": "markdown",
   "metadata": {},
   "source": [
    "# Proportion Test : 구현"
   ]
  },
  {
   "cell_type": "markdown",
   "metadata": {},
   "source": [
    "- 테스트 통계량 \n",
    "    - $Z=\\frac{\\left(\\hat{p}_{X}-\\hat{p}_{Y}\\right)}{\\sqrt{\\hat{p}(1-\\hat{p})\\left(\\frac{1}{n}+\\frac{1}{m}\\right)}}$\n",
    "- $(1-\\alpha) \\times 100 \\%$ confidence interval for $p$\n",
    "    - $\\left(\\hat{p}-z_{1-\\alpha / 2} \\sqrt{\\hat{p}(1-\\hat{p}) / n}, \\hat{p}+z_{1-\\alpha / 2} \\sqrt{\\hat{p}(1-\\hat{p}) / n}\\right)$"
   ]
  },
  {
   "cell_type": "code",
   "execution_count": 6,
   "metadata": {},
   "outputs": [],
   "source": [
    "def two_proprotions_test(success_a, size_a, success_b, size_b):\n",
    "    \"\"\" proportion 에 대해서 AB 테스트를 진행합니다. (two sided)\n",
    "    Parameters\n",
    "    ----------\n",
    "    success_a, success_b (int) : Number of successes in each group\n",
    "    size_a, size_b (int) : Size, or number of observations in each group\n",
    "    \n",
    "    Returns\n",
    "    -------\n",
    "    zscore (float) :test statistic for the two proportion z-test\n",
    "    pvalue (float) : p-value for the two proportion z-test\n",
    "    \"\"\"\n",
    "    prop_a = success_a / size_a\n",
    "    prop_b = success_b / size_b\n",
    "    prop_pooled = (success_a + success_b) / (size_a + size_b)\n",
    "    var = prop_pooled * (1 - prop_pooled) * (1 / size_a + 1 / size_b)\n",
    "    zscore = np.abs(prop_b - prop_a) / np.sqrt(var)\n",
    "    one_side = 1 - stats.norm(loc = 0, scale = 1).cdf(zscore)\n",
    "    pvalue = one_side * 2\n",
    "    return zscore, pvalue"
   ]
  },
  {
   "cell_type": "code",
   "execution_count": 7,
   "metadata": {},
   "outputs": [],
   "source": [
    "def two_proprotions_confint(success_a, size_a, success_b, size_b, significance = 0.05):\n",
    "    \"\"\" AB Test 를 수행합니다. \n",
    "    Parameters\n",
    "    ----------\n",
    "    success_a, success_b (int) : 각 그룹의 success number \n",
    "    size_a, size_b (int) : 각 그룹의 전체 sample 수 \n",
    "    significance (float) : 유의수준 \n",
    "\n",
    "    Returns\n",
    "    -------\n",
    "    confint : Confidence interval 과 mean 을 출력. 즉 [lower , mean , upper]\n",
    "    \"\"\"\n",
    "\n",
    "    prop_a = success_a / size_a\n",
    "    prop_b = success_b / size_b\n",
    "    var = prop_a * (1 - prop_a) / size_a + prop_b * (1 - prop_b) / size_b\n",
    "    se = np.sqrt(var)\n",
    "    # z critical value\n",
    "    z = stats.norm(loc = 0, scale = 1).ppf(1- significance / 2)\n",
    "\n",
    "    # standard formula for the confidence interval\n",
    "    # point-estimtate +- z * standard-error\n",
    "    prop_diff = prop_b - prop_a\n",
    "    confint = prop_diff + np.array([-1,0, 1]) * z * se\n",
    "    return confint"
   ]
  },
  {
   "cell_type": "markdown",
   "metadata": {},
   "source": [
    "# Mean Test 구현"
   ]
  },
  {
   "cell_type": "markdown",
   "metadata": {},
   "source": [
    "- $\\frac{(\\bar{X}-\\bar{Y})-\\left(\\mu_{X}-\\mu_{Y}\\right)}{\\sqrt{\\frac{\\sigma_{X}^{2}}{n}+\\frac{\\sigma_{Y}^{2}}{m}}} \\sim N(0,1)$\n",
    "- $(1-\\alpha) \\times 100 \\%$ confidence interval for $\\mu_{1}-\\mu_{2}$\n",
    "$$\n",
    "\\left((\\bar{x}-\\bar{y})-z_{1-\\alpha / 2} \\sqrt{\\frac{s_{1}^{2}}{n_{1}}+\\frac{s_{2}^{2}}{n_{2}}},(\\bar{x}-\\bar{y})+z_{1-\\alpha / 2} \\sqrt{\\frac{s_{1}^{2}}{n_{1}}+\\frac{s_{2}^{2}}{n_{2}}}\\right)\n",
    "$$"
   ]
  },
  {
   "cell_type": "code",
   "execution_count": 14,
   "metadata": {},
   "outputs": [],
   "source": [
    "def two_mean_test(mean_A,var_A,size_A,mean_B,var_B,size_B,alpha = 0.05) :\n",
    "    std_A = np.sqrt(var_A)\n",
    "    std_B = np.sqrt(var_B)\n",
    "    SE = np.sqrt(std_A**2/size_A + std_B**2/size_B)\n",
    "    Z = (mean_B - mean_A) / SE\n",
    "    p_val = 2*scipy.stats.norm.cdf(-1*abs(Z))\n",
    "    z_a = scipy.stats.norm.ppf(1 - alpha/2)\n",
    "    CI = [(mean_B-mean_A) - z_a*SE , mean_B - mean_A , (mean_B-mean_A) + z_a*SE]\n",
    "    return Z , p_val, CI"
   ]
  },
  {
   "cell_type": "code",
   "execution_count": 19,
   "metadata": {},
   "outputs": [],
   "source": [
    "def continuous_inference(idx) : \n",
    "    z_score, pval , CI = two_mean_test(df.loc[idx,'A_분자']/df.loc[idx,'A_분모'],\n",
    "                                       df.loc[idx,'A_분산'],\n",
    "                                       df.loc[idx,'A_분모'],\n",
    "                                       df.loc[idx,'B_분자']/df.loc[idx,'B_분모'],\n",
    "                                       df.loc[idx,'B_분산'],\n",
    "                                       df.loc[idx,'B_분모'])\n",
    "    lower, mean , upper = CI \n",
    "    df_result.loc[idx,'AB_mean'] = mean\n",
    "    df_result.loc[idx,'AB_Z_통계량'] = round(z_score,4)\n",
    "    df_result.loc[idx,'AB_P_value'] = round(pval,4)\n",
    "    df_result.loc[idx,'AB_CI_Lower'] = lower\n",
    "    df_result.loc[idx,'AB_CI_Upper'] = upper\n",
    "    z_score, pval , CI = two_mean_test(df.loc[idx,'A_분자']/df.loc[idx,'A_분모'],\n",
    "                                       df.loc[idx,'A_분산'],\n",
    "                                       df.loc[idx,'A_분모'],\n",
    "                                       df.loc[idx,'C_분자']/df.loc[idx,'C_분모'],\n",
    "                                       df.loc[idx,'C_분산'],\n",
    "                                       df.loc[idx,'C_분모'])\n",
    "    lower, mean , upper = CI \n",
    "    df_result.loc[idx,'AC_mean'] = mean\n",
    "    df_result.loc[idx,'AC_Z_통계량'] = round(z_score,4)\n",
    "    df_result.loc[idx,'AC_P_value'] = round(pval,4)\n",
    "    df_result.loc[idx,'AC_CI_Lower'] = lower\n",
    "    df_result.loc[idx,'AC_CI_Upper'] = upper\n",
    "    \n",
    "    data_dict = {}\n",
    "    data_dict['category'] = ['B의 효과 (B-A)','C의 효과 (C-A)']\n",
    "    data_dict['lower'] = [df_result.loc[idx,'AB_CI_Lower'],\n",
    "                        df_result.loc[idx,'AC_CI_Lower']]\n",
    "    data_dict['mean'] = [df_result.loc[idx,'AB_mean'],\n",
    "                        df_result.loc[idx,'AC_mean']]\n",
    "    data_dict['upper'] = [df_result.loc[idx,'AB_CI_Upper'],\n",
    "                        df_result.loc[idx,'AC_CI_Upper']]\n",
    "    dataset = pd.DataFrame(data_dict)\n",
    "    plot_ci(dataset[::-1],df_result.loc[idx,'지표 정의'])"
   ]
  },
  {
   "cell_type": "code",
   "execution_count": 20,
   "metadata": {},
   "outputs": [],
   "source": [
    "def conversion_inference(idx): \n",
    "    z_score , pval = two_proprotions_test(df.loc[idx,'A_분자'],\n",
    "                                        df.loc[idx,'A_분모'],\n",
    "                                        df.loc[idx,'B_분자'],\n",
    "                                        df.loc[idx,'B_분모'])\n",
    "    lower , mean , upper = two_proprotions_confint(df.loc[idx,'A_분자'],\n",
    "                                                df.loc[idx,'A_분모'],\n",
    "                                                df.loc[idx,'B_분자'],\n",
    "                                                df.loc[idx,'B_분모'])\n",
    "\n",
    "    df_result.loc[idx,'AB_mean'] = mean\n",
    "    df_result.loc[idx,'AB_Z_통계량'] = round(z_score,4) \n",
    "    df_result.loc[idx,'AB_P_value'] = round(pval,4)\n",
    "    df_result.loc[idx,'AB_CI_Lower'] = lower\n",
    "    df_result.loc[idx,'AB_CI_Upper'] = upper\n",
    "\n",
    "    z_score , pval = two_proprotions_test(df.loc[idx,'A_분자'],\n",
    "                                        df.loc[idx,'A_분모'],\n",
    "                                        df.loc[idx,'C_분자'],\n",
    "                                        df.loc[idx,'C_분모'])\n",
    "    lower , mean , upper = two_proprotions_confint(df.loc[idx,'A_분자'],\n",
    "                                                df.loc[idx,'A_분모'],\n",
    "                                                df.loc[idx,'C_분자'],\n",
    "                                                df.loc[idx,'C_분모'])\n",
    "\n",
    "    df_result.loc[idx,'AC_mean'] = mean \n",
    "    df_result.loc[idx,'AC_Z_통계량'] = round(z_score,4)\n",
    "    df_result.loc[idx,'AC_P_value'] = round(pval,4)\n",
    "    df_result.loc[idx,'AC_CI_Lower'] = lower\n",
    "    df_result.loc[idx,'AC_CI_Upper'] = upper\n",
    "\n",
    "    data_dict = {}\n",
    "    data_dict['category'] = ['B의 효과 (B-A)','C의 효과 (C-A)']\n",
    "    data_dict['lower'] = [df_result.loc[idx,'AB_CI_Lower'],\n",
    "                        df_result.loc[idx,'AC_CI_Lower']]\n",
    "    data_dict['mean'] = [df_result.loc[idx,'AB_mean'],\n",
    "                        df_result.loc[idx,'AC_mean']]\n",
    "    data_dict['upper'] = [df_result.loc[idx,'AB_CI_Upper'],\n",
    "                        df_result.loc[idx,'AC_CI_Upper']]\n",
    "    dataset = pd.DataFrame(data_dict)\n",
    "    plot_ci(dataset[::-1],df_result.loc[idx,'지표 정의'])"
   ]
  },
  {
   "cell_type": "code",
   "execution_count": 22,
   "metadata": {},
   "outputs": [
    {
     "name": "stdout",
     "output_type": "stream",
     "text": [
      "      category     lower      mean     upper\n",
      "1  C의 효과 (C-A)  0.000029  0.000111  0.000192\n",
      "0  B의 효과 (B-A) -0.000044  0.000030  0.000103\n"
     ]
    },
    {
     "data": {
      "image/png": "[encoded data removed]",
      "text/plain": [
       "<Figure size 720x144 with 1 Axes>"
      ]
     },
     "metadata": {
      "needs_background": "light"
     },
     "output_type": "display_data"
    },
    {
     "name": "stdout",
     "output_type": "stream",
     "text": [
      "      category     lower      mean     upper\n",
      "1  C의 효과 (C-A) -0.001518  0.000137  0.001791\n",
      "0  B의 효과 (B-A) -0.001587  0.000051  0.001689\n"
     ]
    },
    {
     "data": {
      "image/png": "[encoded data removed]",
      "text/plain": [
       "<Figure size 720x144 with 1 Axes>"
      ]
     },
     "metadata": {
      "needs_background": "light"
     },
     "output_type": "display_data"
    },
    {
     "name": "stdout",
     "output_type": "stream",
     "text": [
      "      category      lower      mean      upper\n",
      "1  C의 효과 (C-A) -61.492860  3.423041  68.338942\n",
      "0  B의 효과 (B-A) -59.968677  1.359023  62.686724\n"
     ]
    },
    {
     "data": {
      "image/png": "[encoded data removed]",
      "text/plain": [
       "<Figure size 720x144 with 1 Axes>"
      ]
     },
     "metadata": {
      "needs_background": "light"
     },
     "output_type": "display_data"
    },
    {
     "name": "stdout",
     "output_type": "stream",
     "text": [
      "      category     lower      mean     upper\n",
      "1  C의 효과 (C-A)  0.001681  0.002578  0.003476\n",
      "0  B의 효과 (B-A)  0.001784  0.002869  0.003954\n"
     ]
    },
    {
     "data": {
      "image/png": "[encoded data removed]",
      "text/plain": [
       "<Figure size 720x144 with 1 Axes>"
      ]
     },
     "metadata": {
      "needs_background": "light"
     },
     "output_type": "display_data"
    },
    {
     "name": "stdout",
     "output_type": "stream",
     "text": [
      "      category     lower      mean     upper\n",
      "1  C의 효과 (C-A) -0.002859  0.002940  0.008739\n",
      "0  B의 효과 (B-A) -0.003616  0.003326  0.010268\n"
     ]
    },
    {
     "data": {
      "image/png": "[encoded data removed]",
      "text/plain": [
       "<Figure size 720x144 with 1 Axes>"
      ]
     },
     "metadata": {
      "needs_background": "light"
     },
     "output_type": "display_data"
    },
    {
     "name": "stdout",
     "output_type": "stream",
     "text": [
      "      category     lower      mean     upper\n",
      "1  C의 효과 (C-A) -0.076183 -0.074499 -0.072816\n",
      "0  B의 효과 (B-A) -0.101548 -0.099972 -0.098396\n"
     ]
    },
    {
     "data": {
      "image/png": "[encoded data removed]",
      "text/plain": [
       "<Figure size 720x144 with 1 Axes>"
      ]
     },
     "metadata": {
      "needs_background": "light"
     },
     "output_type": "display_data"
    },
    {
     "name": "stdout",
     "output_type": "stream",
     "text": [
      "      category     lower      mean     upper\n",
      "1  C의 효과 (C-A) -0.013145 -0.012083 -0.011022\n",
      "0  B의 효과 (B-A)  0.001756  0.002892  0.004029\n"
     ]
    },
    {
     "data": {
      "image/png": "[encoded data removed]",
      "text/plain": [
       "<Figure size 720x144 with 1 Axes>"
      ]
     },
     "metadata": {
      "needs_background": "light"
     },
     "output_type": "display_data"
    },
    {
     "name": "stdout",
     "output_type": "stream",
     "text": [
      "      category     lower      mean     upper\n",
      "1  C의 효과 (C-A) -0.614447 -0.589978 -0.565510\n",
      "0  B의 효과 (B-A) -0.681283 -0.657649 -0.634015\n"
     ]
    },
    {
     "data": {
      "image/png": "[encoded data removed]",
      "text/plain": [
       "<Figure size 720x144 with 1 Axes>"
      ]
     },
     "metadata": {
      "needs_background": "light"
     },
     "output_type": "display_data"
    },
    {
     "name": "stdout",
     "output_type": "stream",
     "text": [
      "      category     lower      mean     upper\n",
      "1  C의 효과 (C-A) -0.023342 -0.018821 -0.014299\n",
      "0  B의 효과 (B-A)  0.000037  0.004593  0.009148\n"
     ]
    },
    {
     "data": {
      "image/png": "[encoded data removed]",
      "text/plain": [
       "<Figure size 720x144 with 1 Axes>"
      ]
     },
     "metadata": {
      "needs_background": "light"
     },
     "output_type": "display_data"
    }
   ],
   "source": [
    "for idx in range(len(df)) : \n",
    "    if df.loc[idx,'지표 구분'] == 'conversion' : \n",
    "        conversion_inference(idx)\n",
    "    elif df.loc[idx,'지표 구분'] == 'continuous' :\n",
    "        continuous_inference(idx)\n",
    "    else : \n",
    "        print('Error')\n",
    "        break"
   ]
  },
  {
   "cell_type": "code",
   "execution_count": 23,
   "metadata": {},
   "outputs": [
    {
     "data": {
      "text/html": [
       "<div>\n",
       "<style scoped>\n",
       "    .dataframe tbody tr th:only-of-type {\n",
       "        vertical-align: middle;\n",
       "    }\n",
       "\n",
       "    .dataframe tbody tr th {\n",
       "        vertical-align: top;\n",
       "    }\n",
       "\n",
       "    .dataframe thead th {\n",
       "        text-align: right;\n",
       "    }\n",
       "</style>\n",
       "<table border=\"1\" class=\"dataframe\">\n",
       "  <thead>\n",
       "    <tr style=\"text-align: right;\">\n",
       "      <th></th>\n",
       "      <th>지표 정의</th>\n",
       "      <th>AB_mean</th>\n",
       "      <th>AB_P_value</th>\n",
       "      <th>AC_mean</th>\n",
       "      <th>AC_P_value</th>\n",
       "    </tr>\n",
       "  </thead>\n",
       "  <tbody>\n",
       "    <tr>\n",
       "      <th>0</th>\n",
       "      <td>구매 전환율</td>\n",
       "      <td>0.000030</td>\n",
       "      <td>0.4274</td>\n",
       "      <td>0.000111</td>\n",
       "      <td>0.0079</td>\n",
       "    </tr>\n",
       "    <tr>\n",
       "      <th>1</th>\n",
       "      <td>유저당 주문수</td>\n",
       "      <td>0.000051</td>\n",
       "      <td>0.9513</td>\n",
       "      <td>0.000137</td>\n",
       "      <td>0.8713</td>\n",
       "    </tr>\n",
       "    <tr>\n",
       "      <th>2</th>\n",
       "      <td>유저당 거래액</td>\n",
       "      <td>1.359023</td>\n",
       "      <td>0.9654</td>\n",
       "      <td>3.423041</td>\n",
       "      <td>0.9177</td>\n",
       "    </tr>\n",
       "    <tr>\n",
       "      <th>3</th>\n",
       "      <td>구매 전환율 (클릭 사용자수)</td>\n",
       "      <td>0.002869</td>\n",
       "      <td>0.0000</td>\n",
       "      <td>0.002578</td>\n",
       "      <td>0.0000</td>\n",
       "    </tr>\n",
       "    <tr>\n",
       "      <th>4</th>\n",
       "      <td>유저당 주문수 (클릭 사용자수)</td>\n",
       "      <td>0.003326</td>\n",
       "      <td>0.3477</td>\n",
       "      <td>0.002940</td>\n",
       "      <td>0.3204</td>\n",
       "    </tr>\n",
       "    <tr>\n",
       "      <th>5</th>\n",
       "      <td>클릭 전환율</td>\n",
       "      <td>-0.099972</td>\n",
       "      <td>0.0000</td>\n",
       "      <td>-0.074499</td>\n",
       "      <td>0.0000</td>\n",
       "    </tr>\n",
       "    <tr>\n",
       "      <th>6</th>\n",
       "      <td>콘텐츠 클릭 전환율</td>\n",
       "      <td>0.002892</td>\n",
       "      <td>0.0000</td>\n",
       "      <td>-0.012083</td>\n",
       "      <td>0.0000</td>\n",
       "    </tr>\n",
       "    <tr>\n",
       "      <th>7</th>\n",
       "      <td>유저당 클릭수</td>\n",
       "      <td>-0.657649</td>\n",
       "      <td>0.0000</td>\n",
       "      <td>-0.589978</td>\n",
       "      <td>0.0000</td>\n",
       "    </tr>\n",
       "    <tr>\n",
       "      <th>8</th>\n",
       "      <td>유저당 콘텐츠 클릭수</td>\n",
       "      <td>0.004593</td>\n",
       "      <td>0.0481</td>\n",
       "      <td>-0.018821</td>\n",
       "      <td>0.0000</td>\n",
       "    </tr>\n",
       "  </tbody>\n",
       "</table>\n",
       "</div>"
      ],
      "text/plain": [
       "               지표 정의   AB_mean  AB_P_value   AC_mean  AC_P_value\n",
       "0             구매 전환율  0.000030      0.4274  0.000111      0.0079\n",
       "1            유저당 주문수  0.000051      0.9513  0.000137      0.8713\n",
       "2            유저당 거래액  1.359023      0.9654  3.423041      0.9177\n",
       "3   구매 전환율 (클릭 사용자수)  0.002869      0.0000  0.002578      0.0000\n",
       "4  유저당 주문수 (클릭 사용자수)  0.003326      0.3477  0.002940      0.3204\n",
       "5             클릭 전환율 -0.099972      0.0000 -0.074499      0.0000\n",
       "6         콘텐츠 클릭 전환율  0.002892      0.0000 -0.012083      0.0000\n",
       "7            유저당 클릭수 -0.657649      0.0000 -0.589978      0.0000\n",
       "8        유저당 콘텐츠 클릭수  0.004593      0.0481 -0.018821      0.0000"
      ]
     },
     "execution_count": 23,
     "metadata": {},
     "output_type": "execute_result"
    }
   ],
   "source": [
    "df_result[['지표 정의','AB_mean','AB_P_value','AC_mean','AC_P_value']]"
   ]
  },
  {
   "cell_type": "code",
   "execution_count": 298,
   "metadata": {},
   "outputs": [],
   "source": [
    "df_result.to_excel('result.xlsx')"
   ]
  },
  {
   "cell_type": "markdown",
   "metadata": {},
   "source": [
    "# Primary : 구매전환율"
   ]
  },
  {
   "cell_type": "code",
   "execution_count": 24,
   "metadata": {},
   "outputs": [],
   "source": [
    "    z_score, pval , CI = two_mean_test(df.loc[idx,'A_분자']/df.loc[idx,'A_분모'],\n",
    "                                       df.loc[idx,'A_분산'],\n",
    "                                       df.loc[idx,'A_분모'],\n",
    "                                       df.loc[idx,'B_분자']/df.loc[idx,'B_분모'],\n",
    "                                       df.loc[idx,'B_분산'],\n",
    "                                       df.loc[idx,'B_분모'])\n",
    "    lower, mean , upper = CI \n",
    "    df_result.loc[idx,'AB_mean'] = mean\n",
    "    df_result.loc[idx,'AB_Z_통계량'] = round(z_score,4)\n",
    "    df_result.loc[idx,'AB_P_value'] = round(pval,4)\n",
    "    df_result.loc[idx,'AB_CI_Lower'] = lower\n",
    "    df_result.loc[idx,'AB_CI_Upper'] = upper\n",
    "    z_score, pval , CI = two_mean_test(df.loc[idx,'A_분자']/df.loc[idx,'A_분모'],\n",
    "                                       df.loc[idx,'A_분산'],\n",
    "                                       df.loc[idx,'A_분모'],\n",
    "                                       df.loc[idx,'C_분자']/df.loc[idx,'C_분모'],\n",
    "                                       df.loc[idx,'C_분산'],\n",
    "                                       df.loc[idx,'C_분모'])"
   ]
  },
  {
   "cell_type": "code",
   "execution_count": 25,
   "metadata": {},
   "outputs": [
    {
     "data": {
      "text/plain": [
       "49"
      ]
     },
     "execution_count": 25,
     "metadata": {},
     "output_type": "execute_result"
    }
   ],
   "source": [
    "df.loc[0,'A_분자']"
   ]
  },
  {
   "cell_type": "code",
   "execution_count": 26,
   "metadata": {},
   "outputs": [
    {
     "data": {
      "text/html": [
       "<div>\n",
       "<style scoped>\n",
       "    .dataframe tbody tr th:only-of-type {\n",
       "        vertical-align: middle;\n",
       "    }\n",
       "\n",
       "    .dataframe tbody tr th {\n",
       "        vertical-align: top;\n",
       "    }\n",
       "\n",
       "    .dataframe thead th {\n",
       "        text-align: right;\n",
       "    }\n",
       "</style>\n",
       "<table border=\"1\" class=\"dataframe\">\n",
       "  <thead>\n",
       "    <tr style=\"text-align: right;\">\n",
       "      <th></th>\n",
       "      <th>지표 구분</th>\n",
       "      <th>지표 정의</th>\n",
       "      <th>지표 상세</th>\n",
       "      <th>A_분자</th>\n",
       "      <th>B_분자</th>\n",
       "      <th>C_분자</th>\n",
       "      <th>A_분모</th>\n",
       "      <th>B_분모</th>\n",
       "      <th>C_분모</th>\n",
       "      <th>A_분산</th>\n",
       "      <th>B_분산</th>\n",
       "      <th>C_분산</th>\n",
       "    </tr>\n",
       "  </thead>\n",
       "  <tbody>\n",
       "    <tr>\n",
       "      <th>0</th>\n",
       "      <td>conversion</td>\n",
       "      <td>구매 전환율</td>\n",
       "      <td>미식선물 컬렉션 구매자수 / 미식선물 컬렉션 노출 사용자수</td>\n",
       "      <td>49</td>\n",
       "      <td>59</td>\n",
       "      <td>78</td>\n",
       "      <td>272394</td>\n",
       "      <td>281384</td>\n",
       "      <td>268483</td>\n",
       "      <td>NaN</td>\n",
       "      <td>NaN</td>\n",
       "      <td>NaN</td>\n",
       "    </tr>\n",
       "    <tr>\n",
       "      <th>1</th>\n",
       "      <td>continuous</td>\n",
       "      <td>유저당 주문수</td>\n",
       "      <td>미식선물 컬렉션 주문수 / 미식선물 컬렉션 노출 사용자수</td>\n",
       "      <td>50</td>\n",
       "      <td>66</td>\n",
       "      <td>86</td>\n",
       "      <td>272394</td>\n",
       "      <td>281384</td>\n",
       "      <td>268483</td>\n",
       "      <td>2.041000e-02</td>\n",
       "      <td>1.753400e-01</td>\n",
       "      <td>1.711600e-01</td>\n",
       "    </tr>\n",
       "    <tr>\n",
       "      <th>2</th>\n",
       "      <td>continuous</td>\n",
       "      <td>유저당 거래액</td>\n",
       "      <td>미식선물 컬렉션 거래액 / 미식선물 컬렉션 노출 사용자수</td>\n",
       "      <td>1165100</td>\n",
       "      <td>1585960</td>\n",
       "      <td>2067400</td>\n",
       "      <td>272394</td>\n",
       "      <td>281384</td>\n",
       "      <td>268483</td>\n",
       "      <td>7.935969e+07</td>\n",
       "      <td>1.935180e+08</td>\n",
       "      <td>2.163052e+08</td>\n",
       "    </tr>\n",
       "    <tr>\n",
       "      <th>3</th>\n",
       "      <td>conversion</td>\n",
       "      <td>구매 전환율 (클릭 사용자수)</td>\n",
       "      <td>미식선물 컬렉션 구매자수 / 미식선물 컬렉션 클릭 사용자수</td>\n",
       "      <td>49</td>\n",
       "      <td>59</td>\n",
       "      <td>78</td>\n",
       "      <td>41317</td>\n",
       "      <td>14550</td>\n",
       "      <td>20722</td>\n",
       "      <td>NaN</td>\n",
       "      <td>NaN</td>\n",
       "      <td>NaN</td>\n",
       "    </tr>\n",
       "    <tr>\n",
       "      <th>4</th>\n",
       "      <td>continuous</td>\n",
       "      <td>유저당 주문수 (클릭 사용자수)</td>\n",
       "      <td>미식선물 컬렉션 주문수 / 미식선물 컬렉션 클릭 사용자수</td>\n",
       "      <td>50</td>\n",
       "      <td>66</td>\n",
       "      <td>86</td>\n",
       "      <td>41317</td>\n",
       "      <td>14550</td>\n",
       "      <td>20722</td>\n",
       "      <td>2.041000e-02</td>\n",
       "      <td>1.753400e-01</td>\n",
       "      <td>1.711600e-01</td>\n",
       "    </tr>\n",
       "    <tr>\n",
       "      <th>5</th>\n",
       "      <td>conversion</td>\n",
       "      <td>클릭 전환율</td>\n",
       "      <td>미식선물 컬렉션 클릭 사용자수 / 미식선물 컬렉션 노출 사용자수</td>\n",
       "      <td>41317</td>\n",
       "      <td>14550</td>\n",
       "      <td>20722</td>\n",
       "      <td>272394</td>\n",
       "      <td>281384</td>\n",
       "      <td>268483</td>\n",
       "      <td>NaN</td>\n",
       "      <td>NaN</td>\n",
       "      <td>NaN</td>\n",
       "    </tr>\n",
       "    <tr>\n",
       "      <th>6</th>\n",
       "      <td>conversion</td>\n",
       "      <td>콘텐츠 클릭 전환율</td>\n",
       "      <td>미식선물 컬렉션 콘텐츠 클릭 사용자수 / 미식선물 컬렉션 노출 사용자수</td>\n",
       "      <td>12941</td>\n",
       "      <td>14182</td>\n",
       "      <td>9511</td>\n",
       "      <td>272394</td>\n",
       "      <td>281384</td>\n",
       "      <td>268483</td>\n",
       "      <td>NaN</td>\n",
       "      <td>NaN</td>\n",
       "      <td>NaN</td>\n",
       "    </tr>\n",
       "    <tr>\n",
       "      <th>7</th>\n",
       "      <td>continuous</td>\n",
       "      <td>유저당 클릭수</td>\n",
       "      <td>미식선물 컬렉션 클릭수 / 미식선물 컬렉션 노출 사용자수</td>\n",
       "      <td>197581</td>\n",
       "      <td>19050</td>\n",
       "      <td>36345</td>\n",
       "      <td>272394</td>\n",
       "      <td>281384</td>\n",
       "      <td>268483</td>\n",
       "      <td>3.891315e+01</td>\n",
       "      <td>7.156700e-01</td>\n",
       "      <td>3.488940e+00</td>\n",
       "    </tr>\n",
       "    <tr>\n",
       "      <th>8</th>\n",
       "      <td>continuous</td>\n",
       "      <td>유저당 콘텐츠 클릭수</td>\n",
       "      <td>미식선물 컬렉션 콘텐츠 클릭수 / 미식선물 컬렉션 노출 사용자수</td>\n",
       "      <td>16714</td>\n",
       "      <td>18558</td>\n",
       "      <td>11421</td>\n",
       "      <td>272394</td>\n",
       "      <td>281384</td>\n",
       "      <td>268483</td>\n",
       "      <td>7.806000e-01</td>\n",
       "      <td>7.137500e-01</td>\n",
       "      <td>6.595600e-01</td>\n",
       "    </tr>\n",
       "  </tbody>\n",
       "</table>\n",
       "</div>"
      ],
      "text/plain": [
       "        지표 구분              지표 정의                                    지표 상세  \\\n",
       "0  conversion             구매 전환율         미식선물 컬렉션 구매자수 / 미식선물 컬렉션 노출 사용자수   \n",
       "1  continuous            유저당 주문수          미식선물 컬렉션 주문수 / 미식선물 컬렉션 노출 사용자수   \n",
       "2  continuous            유저당 거래액          미식선물 컬렉션 거래액 / 미식선물 컬렉션 노출 사용자수   \n",
       "3  conversion   구매 전환율 (클릭 사용자수)         미식선물 컬렉션 구매자수 / 미식선물 컬렉션 클릭 사용자수   \n",
       "4  continuous  유저당 주문수 (클릭 사용자수)          미식선물 컬렉션 주문수 / 미식선물 컬렉션 클릭 사용자수   \n",
       "5  conversion             클릭 전환율      미식선물 컬렉션 클릭 사용자수 / 미식선물 컬렉션 노출 사용자수   \n",
       "6  conversion         콘텐츠 클릭 전환율  미식선물 컬렉션 콘텐츠 클릭 사용자수 / 미식선물 컬렉션 노출 사용자수   \n",
       "7  continuous            유저당 클릭수          미식선물 컬렉션 클릭수 / 미식선물 컬렉션 노출 사용자수   \n",
       "8  continuous        유저당 콘텐츠 클릭수      미식선물 컬렉션 콘텐츠 클릭수 / 미식선물 컬렉션 노출 사용자수   \n",
       "\n",
       "      A_분자     B_분자     C_분자    A_분모    B_분모    C_분모          A_분산  \\\n",
       "0       49       59       78  272394  281384  268483           NaN   \n",
       "1       50       66       86  272394  281384  268483  2.041000e-02   \n",
       "2  1165100  1585960  2067400  272394  281384  268483  7.935969e+07   \n",
       "3       49       59       78   41317   14550   20722           NaN   \n",
       "4       50       66       86   41317   14550   20722  2.041000e-02   \n",
       "5    41317    14550    20722  272394  281384  268483           NaN   \n",
       "6    12941    14182     9511  272394  281384  268483           NaN   \n",
       "7   197581    19050    36345  272394  281384  268483  3.891315e+01   \n",
       "8    16714    18558    11421  272394  281384  268483  7.806000e-01   \n",
       "\n",
       "           B_분산          C_분산  \n",
       "0           NaN           NaN  \n",
       "1  1.753400e-01  1.711600e-01  \n",
       "2  1.935180e+08  2.163052e+08  \n",
       "3           NaN           NaN  \n",
       "4  1.753400e-01  1.711600e-01  \n",
       "5           NaN           NaN  \n",
       "6           NaN           NaN  \n",
       "7  7.156700e-01  3.488940e+00  \n",
       "8  7.137500e-01  6.595600e-01  "
      ]
     },
     "execution_count": 26,
     "metadata": {},
     "output_type": "execute_result"
    }
   ],
   "source": [
    "df"
   ]
  },
  {
   "cell_type": "markdown",
   "metadata": {},
   "source": [
    "# 검산"
   ]
  },
  {
   "cell_type": "code",
   "execution_count": 41,
   "metadata": {},
   "outputs": [],
   "source": [
    "from statsmodels.stats import proportion"
   ]
  },
  {
   "cell_type": "code",
   "execution_count": 42,
   "metadata": {},
   "outputs": [
    {
     "name": "stdout",
     "output_type": "stream",
     "text": [
      "-4.4852390617716636e-05 0.00914843150119874\n"
     ]
    }
   ],
   "source": [
    "def conversion_check(idx) : \n",
    "    lower , uppper = statsmodels.stats.proportion.confint_proportions_2indep(df.loc[idx,'B_분자'],df.loc[idx,'B_분모'],df.loc[idx,'A_분자'],df.loc[idx,'A_분모'])\n",
    "    print(lower, upper)\n",
    "conversion_check(0)"
   ]
  },
  {
   "cell_type": "code",
   "execution_count": 43,
   "metadata": {},
   "outputs": [
    {
     "name": "stdout",
     "output_type": "stream",
     "text": [
      "-4.4852390617716636e-05 0.00914843150119874\n"
     ]
    }
   ],
   "source": [
    "def conversion_check(idx) : \n",
    "    lower , uppper = statsmodels.stats.proportion.confint_proportions_2indep(df.loc[idx,'B_분자'],df.loc[idx,'B_분모'],df.loc[idx,'A_분자'],df.loc[idx,'A_분모'])\n",
    "    print(lower, upper)\n",
    "conversion_check(0)"
   ]
  },
  {
   "cell_type": "code",
   "execution_count": 44,
   "metadata": {},
   "outputs": [
    {
     "name": "stdout",
     "output_type": "stream",
     "text": [
      "BA pvalue : 6.162931684983164e-07\n",
      "CA pvalue : 0.0\n"
     ]
    }
   ],
   "source": [
    "def check_conver(idx) :\n",
    "    zscore, pvalue = two_proprotions_test(df.loc[idx,'B_분자'],df.loc[idx,'B_분모'],df.loc[idx,'A_분자'],df.loc[idx,'A_분모'])\n",
    "    print(f'BA pvalue : {pvalue}')\n",
    "    zscore, pvalue = two_proprotions_test(df.loc[idx,'C_분자'],df.loc[idx,'C_분모'],df.loc[idx,'A_분자'],df.loc[idx,'A_분모'])\n",
    "    print(f'CA pvalue : {pvalue}')\n",
    "check_conver(6)"
   ]
  },
  {
   "cell_type": "code",
   "execution_count": 45,
   "metadata": {},
   "outputs": [
    {
     "name": "stdout",
     "output_type": "stream",
     "text": [
      "BA pvalue : 0.04814774566691906\n",
      "CA pvalue : 3.4132547499408206e-16\n"
     ]
    }
   ],
   "source": [
    "def check_conti(idx) : \n",
    "   k = scipy.stats.ttest_ind_from_stats(df.loc[idx,'B_분자']/df.loc[idx,'B_분모'],np.sqrt(df.loc[idx,'B_분산']),df.loc[idx,'B_분모'],df.loc[idx,'A_분자']/df.loc[idx,'A_분모'],np.sqrt(df.loc[idx,'A_분산']),df.loc[idx,'A_분모'], equal_var=False)\n",
    "   print(f'BA pvalue : {k.pvalue}')\n",
    "   k = scipy.stats.ttest_ind_from_stats(df.loc[idx,'C_분자']/df.loc[idx,'C_분모'],np.sqrt(df.loc[idx,'C_분산']),df.loc[idx,'C_분모'],df.loc[idx,'A_분자']/df.loc[idx,'A_분모'],np.sqrt(df.loc[idx,'A_분산']),df.loc[idx,'A_분모'], equal_var=False)\n",
    "   print(f'CA pvalue : {k.pvalue}')\n",
    "check_conti(8)"
   ]
  },
  {
   "cell_type": "code",
   "execution_count": 46,
   "metadata": {},
   "outputs": [
    {
     "name": "stdout",
     "output_type": "stream",
     "text": [
      "BA pvalue : 0.9513290341750951\n",
      "CA pvalue : 0.8712844997103991\n"
     ]
    }
   ],
   "source": [
    "check_conti(1)"
   ]
  },
  {
   "cell_type": "code",
   "execution_count": 328,
   "metadata": {},
   "outputs": [
    {
     "data": {
      "text/html": [
       "<div>\n",
       "<style scoped>\n",
       "    .dataframe tbody tr th:only-of-type {\n",
       "        vertical-align: middle;\n",
       "    }\n",
       "\n",
       "    .dataframe tbody tr th {\n",
       "        vertical-align: top;\n",
       "    }\n",
       "\n",
       "    .dataframe thead th {\n",
       "        text-align: right;\n",
       "    }\n",
       "</style>\n",
       "<table border=\"1\" class=\"dataframe\">\n",
       "  <thead>\n",
       "    <tr style=\"text-align: right;\">\n",
       "      <th></th>\n",
       "      <th>지표 구분</th>\n",
       "      <th>지표 정의</th>\n",
       "      <th>지표 상세</th>\n",
       "      <th>A_분자</th>\n",
       "      <th>B_분자</th>\n",
       "      <th>C_분자</th>\n",
       "      <th>A_분모</th>\n",
       "      <th>B_분모</th>\n",
       "      <th>C_분모</th>\n",
       "      <th>A_분산</th>\n",
       "      <th>B_분산</th>\n",
       "      <th>C_분산</th>\n",
       "    </tr>\n",
       "  </thead>\n",
       "  <tbody>\n",
       "    <tr>\n",
       "      <th>0</th>\n",
       "      <td>conversion</td>\n",
       "      <td>구매 전환율</td>\n",
       "      <td>미식선물 컬렉션 구매자수 / 미식선물 컬렉션 노출 사용자수</td>\n",
       "      <td>49</td>\n",
       "      <td>59</td>\n",
       "      <td>78</td>\n",
       "      <td>272394</td>\n",
       "      <td>281384</td>\n",
       "      <td>268483</td>\n",
       "      <td>NaN</td>\n",
       "      <td>NaN</td>\n",
       "      <td>NaN</td>\n",
       "    </tr>\n",
       "    <tr>\n",
       "      <th>1</th>\n",
       "      <td>continuous</td>\n",
       "      <td>유저당 주문수</td>\n",
       "      <td>미식선물 컬렉션 주문수 / 미식선물 컬렉션 노출 사용자수</td>\n",
       "      <td>50</td>\n",
       "      <td>66</td>\n",
       "      <td>86</td>\n",
       "      <td>272394</td>\n",
       "      <td>281384</td>\n",
       "      <td>268483</td>\n",
       "      <td>2.041000e-02</td>\n",
       "      <td>1.753400e-01</td>\n",
       "      <td>1.711600e-01</td>\n",
       "    </tr>\n",
       "    <tr>\n",
       "      <th>2</th>\n",
       "      <td>continuous</td>\n",
       "      <td>유저당 거래액</td>\n",
       "      <td>미식선물 컬렉션 거래액 / 미식선물 컬렉션 노출 사용자수</td>\n",
       "      <td>1165100</td>\n",
       "      <td>1585960</td>\n",
       "      <td>2067400</td>\n",
       "      <td>272394</td>\n",
       "      <td>281384</td>\n",
       "      <td>268483</td>\n",
       "      <td>7.935969e+07</td>\n",
       "      <td>1.935180e+08</td>\n",
       "      <td>2.163052e+08</td>\n",
       "    </tr>\n",
       "    <tr>\n",
       "      <th>3</th>\n",
       "      <td>conversion</td>\n",
       "      <td>구매 전환율 (클릭 사용자수)</td>\n",
       "      <td>미식선물 컬렉션 구매자수 / 미식선물 컬렉션 클릭 사용자수</td>\n",
       "      <td>49</td>\n",
       "      <td>59</td>\n",
       "      <td>78</td>\n",
       "      <td>41317</td>\n",
       "      <td>14550</td>\n",
       "      <td>20722</td>\n",
       "      <td>NaN</td>\n",
       "      <td>NaN</td>\n",
       "      <td>NaN</td>\n",
       "    </tr>\n",
       "    <tr>\n",
       "      <th>4</th>\n",
       "      <td>continuous</td>\n",
       "      <td>유저당 주문수 (클릭 사용자수)</td>\n",
       "      <td>미식선물 컬렉션 주문수 / 미식선물 컬렉션 클릭 사용자수</td>\n",
       "      <td>50</td>\n",
       "      <td>66</td>\n",
       "      <td>86</td>\n",
       "      <td>41317</td>\n",
       "      <td>14550</td>\n",
       "      <td>20722</td>\n",
       "      <td>2.041000e-02</td>\n",
       "      <td>1.753400e-01</td>\n",
       "      <td>1.711600e-01</td>\n",
       "    </tr>\n",
       "    <tr>\n",
       "      <th>5</th>\n",
       "      <td>conversion</td>\n",
       "      <td>클릭 전환율</td>\n",
       "      <td>미식선물 컬렉션 클릭 사용자수 / 미식선물 컬렉션 노출 사용자수</td>\n",
       "      <td>41317</td>\n",
       "      <td>14550</td>\n",
       "      <td>20722</td>\n",
       "      <td>272394</td>\n",
       "      <td>281384</td>\n",
       "      <td>268483</td>\n",
       "      <td>NaN</td>\n",
       "      <td>NaN</td>\n",
       "      <td>NaN</td>\n",
       "    </tr>\n",
       "    <tr>\n",
       "      <th>6</th>\n",
       "      <td>conversion</td>\n",
       "      <td>콘텐츠 클릭 전환율</td>\n",
       "      <td>미식선물 컬렉션 콘텐츠 클릭 사용자수 / 미식선물 컬렉션 노출 사용자수</td>\n",
       "      <td>12941</td>\n",
       "      <td>14182</td>\n",
       "      <td>9511</td>\n",
       "      <td>272394</td>\n",
       "      <td>281384</td>\n",
       "      <td>268483</td>\n",
       "      <td>NaN</td>\n",
       "      <td>NaN</td>\n",
       "      <td>NaN</td>\n",
       "    </tr>\n",
       "    <tr>\n",
       "      <th>7</th>\n",
       "      <td>continuous</td>\n",
       "      <td>유저당 클릭수</td>\n",
       "      <td>미식선물 컬렉션 클릭수 / 미식선물 컬렉션 노출 사용자수</td>\n",
       "      <td>197581</td>\n",
       "      <td>19050</td>\n",
       "      <td>36345</td>\n",
       "      <td>272394</td>\n",
       "      <td>281384</td>\n",
       "      <td>268483</td>\n",
       "      <td>3.891315e+01</td>\n",
       "      <td>7.156700e-01</td>\n",
       "      <td>3.488940e+00</td>\n",
       "    </tr>\n",
       "    <tr>\n",
       "      <th>8</th>\n",
       "      <td>continuous</td>\n",
       "      <td>유저당 콘텐츠 클릭수</td>\n",
       "      <td>미식선물 컬렉션 콘텐츠 클릭수 / 미식선물 컬렉션 노출 사용자수</td>\n",
       "      <td>16714</td>\n",
       "      <td>18558</td>\n",
       "      <td>11421</td>\n",
       "      <td>272394</td>\n",
       "      <td>281384</td>\n",
       "      <td>268483</td>\n",
       "      <td>7.806000e-01</td>\n",
       "      <td>7.137500e-01</td>\n",
       "      <td>6.595600e-01</td>\n",
       "    </tr>\n",
       "  </tbody>\n",
       "</table>\n",
       "</div>"
      ],
      "text/plain": [
       "        지표 구분              지표 정의                                    지표 상세  \\\n",
       "0  conversion             구매 전환율         미식선물 컬렉션 구매자수 / 미식선물 컬렉션 노출 사용자수   \n",
       "1  continuous            유저당 주문수          미식선물 컬렉션 주문수 / 미식선물 컬렉션 노출 사용자수   \n",
       "2  continuous            유저당 거래액          미식선물 컬렉션 거래액 / 미식선물 컬렉션 노출 사용자수   \n",
       "3  conversion   구매 전환율 (클릭 사용자수)         미식선물 컬렉션 구매자수 / 미식선물 컬렉션 클릭 사용자수   \n",
       "4  continuous  유저당 주문수 (클릭 사용자수)          미식선물 컬렉션 주문수 / 미식선물 컬렉션 클릭 사용자수   \n",
       "5  conversion             클릭 전환율      미식선물 컬렉션 클릭 사용자수 / 미식선물 컬렉션 노출 사용자수   \n",
       "6  conversion         콘텐츠 클릭 전환율  미식선물 컬렉션 콘텐츠 클릭 사용자수 / 미식선물 컬렉션 노출 사용자수   \n",
       "7  continuous            유저당 클릭수          미식선물 컬렉션 클릭수 / 미식선물 컬렉션 노출 사용자수   \n",
       "8  continuous        유저당 콘텐츠 클릭수      미식선물 컬렉션 콘텐츠 클릭수 / 미식선물 컬렉션 노출 사용자수   \n",
       "\n",
       "      A_분자     B_분자     C_분자    A_분모    B_분모    C_분모          A_분산  \\\n",
       "0       49       59       78  272394  281384  268483           NaN   \n",
       "1       50       66       86  272394  281384  268483  2.041000e-02   \n",
       "2  1165100  1585960  2067400  272394  281384  268483  7.935969e+07   \n",
       "3       49       59       78   41317   14550   20722           NaN   \n",
       "4       50       66       86   41317   14550   20722  2.041000e-02   \n",
       "5    41317    14550    20722  272394  281384  268483           NaN   \n",
       "6    12941    14182     9511  272394  281384  268483           NaN   \n",
       "7   197581    19050    36345  272394  281384  268483  3.891315e+01   \n",
       "8    16714    18558    11421  272394  281384  268483  7.806000e-01   \n",
       "\n",
       "           B_분산          C_분산  \n",
       "0           NaN           NaN  \n",
       "1  1.753400e-01  1.711600e-01  \n",
       "2  1.935180e+08  2.163052e+08  \n",
       "3           NaN           NaN  \n",
       "4  1.753400e-01  1.711600e-01  \n",
       "5           NaN           NaN  \n",
       "6           NaN           NaN  \n",
       "7  7.156700e-01  3.488940e+00  \n",
       "8  7.137500e-01  6.595600e-01  "
      ]
     },
     "execution_count": 328,
     "metadata": {},
     "output_type": "execute_result"
    }
   ],
   "source": [
    "df"
   ]
  },
  {
   "cell_type": "code",
   "execution_count": 333,
   "metadata": {},
   "outputs": [
    {
     "data": {
      "text/plain": [
       "0.1428635712839351"
      ]
     },
     "execution_count": 333,
     "metadata": {},
     "output_type": "execute_result"
    }
   ],
   "source": [
    "np.sqrt(2.041000e-02)"
   ]
  },
  {
   "cell_type": "code",
   "execution_count": 317,
   "metadata": {},
   "outputs": [
    {
     "data": {
      "text/plain": [
       "0    0.0079\n",
       "1    0.8713\n",
       "2    0.9177\n",
       "3    0.0000\n",
       "4    0.3204\n",
       "5    0.0000\n",
       "6    0.0000\n",
       "7    0.0000\n",
       "8    0.0000\n",
       "Name: AC_P_value, dtype: float64"
      ]
     },
     "execution_count": 317,
     "metadata": {},
     "output_type": "execute_result"
    }
   ],
   "source": [
    "df_result['AC_P_value']"
   ]
  },
  {
   "cell_type": "code",
   "execution_count": 318,
   "metadata": {},
   "outputs": [
    {
     "name": "stdout",
     "output_type": "stream",
     "text": [
      "      category     lower      mean     upper\n",
      "1  C의 효과 (C-A) -0.076183 -0.074499 -0.072816\n",
      "0  B의 효과 (B-A) -0.101548 -0.099972 -0.098396\n"
     ]
    },
    {
     "data": {
      "image/png": "[encoded data removed]",
      "text/plain": [
       "<Figure size 720x144 with 1 Axes>"
      ]
     },
     "metadata": {
      "needs_background": "light"
     },
     "output_type": "display_data"
    }
   ],
   "source": [
    "conversion_inference(5)"
   ]
  },
  {
   "cell_type": "markdown",
   "metadata": {},
   "source": [
    "# Appendix"
   ]
  },
  {
   "cell_type": "code",
   "execution_count": 149,
   "metadata": {},
   "outputs": [
    {
     "data": {
      "text/html": [
       "<div>\n",
       "<style scoped>\n",
       "    .dataframe tbody tr th:only-of-type {\n",
       "        vertical-align: middle;\n",
       "    }\n",
       "\n",
       "    .dataframe tbody tr th {\n",
       "        vertical-align: top;\n",
       "    }\n",
       "\n",
       "    .dataframe thead th {\n",
       "        text-align: right;\n",
       "    }\n",
       "</style>\n",
       "<table border=\"1\" class=\"dataframe\">\n",
       "  <thead>\n",
       "    <tr style=\"text-align: right;\">\n",
       "      <th></th>\n",
       "      <th>category</th>\n",
       "      <th>lower</th>\n",
       "      <th>mean</th>\n",
       "      <th>upper</th>\n",
       "    </tr>\n",
       "  </thead>\n",
       "  <tbody>\n",
       "    <tr>\n",
       "      <th>0</th>\n",
       "      <td>category 1</td>\n",
       "      <td>0.10</td>\n",
       "      <td>0.16</td>\n",
       "      <td>0.22</td>\n",
       "    </tr>\n",
       "    <tr>\n",
       "      <th>1</th>\n",
       "      <td>category 2</td>\n",
       "      <td>0.20</td>\n",
       "      <td>0.25</td>\n",
       "      <td>0.30</td>\n",
       "    </tr>\n",
       "    <tr>\n",
       "      <th>2</th>\n",
       "      <td>category 3</td>\n",
       "      <td>0.15</td>\n",
       "      <td>0.18</td>\n",
       "      <td>0.21</td>\n",
       "    </tr>\n",
       "  </tbody>\n",
       "</table>\n",
       "</div>"
      ],
      "text/plain": [
       "     category  lower  mean  upper\n",
       "0  category 1   0.10  0.16   0.22\n",
       "1  category 2   0.20  0.25   0.30\n",
       "2  category 3   0.15  0.18   0.21"
      ]
     },
     "execution_count": 149,
     "metadata": {},
     "output_type": "execute_result"
    }
   ],
   "source": [
    "from matplotlib import pyplot as plt\n",
    "data_dict = {}\n",
    "data_dict['category'] = ['category 1','category 2','category 3']\n",
    "data_dict['lower'] = [0.1,0.2,0.15]\n",
    "data_dict['mean'] = [0.16,0.25,0.18]\n",
    "data_dict['upper'] = [0.22,0.3,0.21]\n",
    "dataset = pd.DataFrame(data_dict)\n",
    "dataset"
   ]
  },
  {
   "cell_type": "code",
   "execution_count": 150,
   "metadata": {},
   "outputs": [
    {
     "data": {
      "text/plain": [
       "<matplotlib.lines.Line2D at 0x7f8d4a3b3340>"
      ]
     },
     "execution_count": 150,
     "metadata": {},
     "output_type": "execute_result"
    },
    {
     "data": {
      "image/png": "[encoded data removed]",
      "text/plain": [
       "<Figure size 432x288 with 1 Axes>"
      ]
     },
     "metadata": {
      "needs_background": "light"
     },
     "output_type": "display_data"
    }
   ],
   "source": [
    "for lower,mean,upper,y in zip(dataset['lower'],\n",
    "                              dataset['mean'],\n",
    "                              dataset['upper'],\n",
    "                              range(len(dataset))):\n",
    "    # (lower , y) 와 (upper , y ) 를 잇는 선을 만들어냅니다. 즉 가로 수직선이 됩니다. \n",
    "    plt.plot((lower,upper),(y,y),'|-',color = 'blue')\n",
    "    plt.plot(mean,y,'o',color = 'blue')\n",
    "plt.yticks(range(len(dataset)),list(dataset['category']))\n",
    "\n",
    "# 0 위치 표시하기 \n",
    "plt.axvline(x=0, color='r', linestyle='--', linewidth=2)"
   ]
  },
  {
   "cell_type": "code",
   "execution_count": null,
   "metadata": {},
   "outputs": [],
   "source": []
  },
  {
   "cell_type": "markdown",
   "metadata": {},
   "source": [
    "# Reterence"
   ]
  },
  {
   "cell_type": "markdown",
   "metadata": {},
   "source": [
    "- http://ethen8181.github.io/machine-learning/ab_tests/frequentist_ab_test.html#Comparing-Two-Proportions"
   ]
  }
 ],
 "metadata": {
  "interpreter": {
   "hash": "a6bc92ce005a3ebfac0a421e482fd6a9a2d5bae50dffe56de225242a7d8d1b6c"
  },
  "kernelspec": {
   "display_name": "Python 3.9.7 64-bit ('henney': conda)",
   "language": "python",
   "name": "python3"
  },
  "language_info": {
   "codemirror_mode": {
    "name": "ipython",
    "version": 3
   },
   "file_extension": ".py",
   "mimetype": "text/x-python",
   "name": "python",
   "nbconvert_exporter": "python",
   "pygments_lexer": "ipython3",
   "version": "3.8.12"
  },
  "orig_nbformat": 4
 },
 "nbformat": 4,
 "nbformat_minor": 2
}
