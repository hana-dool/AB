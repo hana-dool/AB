{
 "cells": [
  {
   "cell_type": "markdown",
   "metadata": {},
   "source": [
    "- 테스트 통계량\n",
    "$$Z=\\frac{\\left(\\hat{p}_{X}-\\hat{p}_{Y}\\right)}{\\sqrt{\\hat{p}(1-\\hat{p})\\left(\\frac{1}{n}+\\frac{1}{m}\\right)}}$$\n",
    "$$\\hat{p}=\\frac{X+Y}{n+m}\n",
    "$$\n",
    "- $(1-\\alpha) \\times 100 \\%$ confidence interval for $p$\n",
    "    - $\\left(\\hat{p}-z_{1-\\alpha / 2} \\sqrt{\\hat{p}(1-\\hat{p}) / n}, \\hat{p}+z_{1-\\alpha / 2} \\sqrt{\\hat{p}(1-\\hat{p}) / n}\\right)$"
   ]
  },
  {
   "cell_type": "code",
   "execution_count": 1,
   "metadata": {},
   "outputs": [],
   "source": [
    "from scipy import stats\n",
    "import numpy as np\n",
    "def two_proprotions_test(success_a, size_a, success_b, size_b):\n",
    "    \"\"\" proportion 에 대해서 AB 테스트를 진행합니다. (two sided)\n",
    "    Parameters\n",
    "    ----------\n",
    "    success_a, success_b (int) : Number of successes in each group\n",
    "    size_a, size_b (int) : Size, or number of observations in each group\n",
    "\n",
    "    Returns\n",
    "    -------\n",
    "    z_score (float) :test statistic for the two proportion z-test\n",
    "    p_value (float) : p-value for the two proportion z-test\n",
    "\n",
    "    Examples \n",
    "    --------\n",
    "    # 실험의 결과로 Control 의 전환, 샘플수 : (30,400) / Treatment 의 전환, 샘플 수 : (25,390) 이 나왔다고 합시다.\n",
    "    two_proprotions_test(30,400,25,390)\n",
    "    \"\"\"\n",
    "    prop_a = success_a / size_a\n",
    "    prop_b = success_b / size_b\n",
    "    prop_pooled = (success_a + success_b) / (size_a + size_b)\n",
    "    var = prop_pooled * (1 - prop_pooled) * (1 / size_a + 1 / size_b)\n",
    "    z_score = np.abs(prop_b - prop_a) / np.sqrt(var)\n",
    "    one_side = 1 - stats.norm(loc = 0, scale = 1).cdf(z_score)\n",
    "    p_value = one_side * 2\n",
    "\n",
    "    var = prop_a * (1 - prop_a) / size_a + prop_b * (1 - prop_b) / size_b\n",
    "    se = np.sqrt(var)\n",
    "    # z critical value\n",
    "    z = stats.norm(loc = 0, scale = 1).ppf(1- significance / 2)\n",
    "\n",
    "    # standard formula for the confidence interval\n",
    "    # point-estimator +- z * standard-error\n",
    "    prop_diff = prop_b - prop_a\n",
    "    confint = prop_diff + np.array([-1,0, 1]) * z * se\n",
    "\n",
    "    return z_score, p_value , confint "
   ]
  },
  {
   "cell_type": "code",
   "execution_count": 1,
   "metadata": {},
   "outputs": [],
   "source": [
    "import statsmodels.api as sm"
   ]
  },
  {
   "cell_type": "code",
   "execution_count": 3,
   "metadata": {},
   "outputs": [],
   "source": [
    "import pprint "
   ]
  },
  {
   "cell_type": "code",
   "execution_count": 6,
   "metadata": {},
   "outputs": [
    {
     "data": {
      "text/plain": [
       "inf"
      ]
     },
     "execution_count": 6,
     "metadata": {},
     "output_type": "execute_result"
    }
   ],
   "source": [
    "import numpy as np\n",
    "np.inf * 3 "
   ]
  },
  {
   "cell_type": "code",
   "execution_count": null,
   "metadata": {},
   "outputs": [],
   "source": []
  }
 ],
 "metadata": {
  "interpreter": {
   "hash": "5bdf52a376e16a0862a86b254d000e2c8c430d031c36741f2e21b3fb23f723ae"
  },
  "kernelspec": {
   "display_name": "Python 3.8.12 64-bit ('han': conda)",
   "language": "python",
   "name": "python3"
  },
  "language_info": {
   "codemirror_mode": {
    "name": "ipython",
    "version": 3
   },
   "file_extension": ".py",
   "mimetype": "text/x-python",
   "name": "python",
   "nbconvert_exporter": "python",
   "pygments_lexer": "ipython3",
   "version": "3.8.12"
  },
  "orig_nbformat": 4
 },
 "nbformat": 4,
 "nbformat_minor": 2
}
